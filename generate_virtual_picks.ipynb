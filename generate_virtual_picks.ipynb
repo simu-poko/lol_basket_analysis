{
 "cells": [
  {
   "cell_type": "code",
   "execution_count": 1,
   "metadata": {},
   "outputs": [],
   "source": [
    "import random\n",
    "import itertools\n",
    "import numpy as np\n",
    "import pandas as pd\n",
    "from collections import Counter\n",
    "from generate_pick_rules import generate_pick_rules"
   ]
  },
  {
   "cell_type": "markdown",
   "metadata": {},
   "source": [
    "## 1. データの準備"
   ]
  },
  {
   "cell_type": "markdown",
   "metadata": {},
   "source": [
    "match_picks.csvに2019年で行われた各試合のチャンピオンピックをまとめている"
   ]
  },
  {
   "cell_type": "code",
   "execution_count": 2,
   "metadata": {},
   "outputs": [
    {
     "data": {
      "text/html": [
       "<div>\n",
       "<style scoped>\n",
       "    .dataframe tbody tr th:only-of-type {\n",
       "        vertical-align: middle;\n",
       "    }\n",
       "\n",
       "    .dataframe tbody tr th {\n",
       "        vertical-align: top;\n",
       "    }\n",
       "\n",
       "    .dataframe thead th {\n",
       "        text-align: right;\n",
       "    }\n",
       "</style>\n",
       "<table border=\"1\" class=\"dataframe\">\n",
       "  <thead>\n",
       "    <tr style=\"text-align: right;\">\n",
       "      <th></th>\n",
       "      <th>date</th>\n",
       "      <th>league</th>\n",
       "      <th>top</th>\n",
       "      <th>jungle</th>\n",
       "      <th>mid</th>\n",
       "      <th>bottom</th>\n",
       "      <th>support</th>\n",
       "    </tr>\n",
       "  </thead>\n",
       "  <tbody>\n",
       "    <tr>\n",
       "      <th>0</th>\n",
       "      <td>2019-03-24</td>\n",
       "      <td>LCS</td>\n",
       "      <td>Lissandra</td>\n",
       "      <td>Nocturne</td>\n",
       "      <td>Irelia</td>\n",
       "      <td>Ezreal</td>\n",
       "      <td>Rakan</td>\n",
       "    </tr>\n",
       "    <tr>\n",
       "      <th>1</th>\n",
       "      <td>2019-03-24</td>\n",
       "      <td>LCS</td>\n",
       "      <td>Poppy</td>\n",
       "      <td>Jarvan IV</td>\n",
       "      <td>Ryze</td>\n",
       "      <td>Lucian</td>\n",
       "      <td>Braum</td>\n",
       "    </tr>\n",
       "    <tr>\n",
       "      <th>2</th>\n",
       "      <td>2019-03-24</td>\n",
       "      <td>LCS</td>\n",
       "      <td>Sylas</td>\n",
       "      <td>Sejuani</td>\n",
       "      <td>Irelia</td>\n",
       "      <td>Twitch</td>\n",
       "      <td>Galio</td>\n",
       "    </tr>\n",
       "    <tr>\n",
       "      <th>3</th>\n",
       "      <td>2019-03-24</td>\n",
       "      <td>LCS</td>\n",
       "      <td>Jax</td>\n",
       "      <td>Nunu &amp; Willump</td>\n",
       "      <td>Ryze</td>\n",
       "      <td>Vayne</td>\n",
       "      <td>Braum</td>\n",
       "    </tr>\n",
       "    <tr>\n",
       "      <th>4</th>\n",
       "      <td>2019-03-24</td>\n",
       "      <td>LCS</td>\n",
       "      <td>Vladimir</td>\n",
       "      <td>Jarvan IV</td>\n",
       "      <td>Orianna</td>\n",
       "      <td>Varus</td>\n",
       "      <td>Tahm Kench</td>\n",
       "    </tr>\n",
       "  </tbody>\n",
       "</table>\n",
       "</div>"
      ],
      "text/plain": [
       "         date league        top          jungle      mid  bottom     support\n",
       "0  2019-03-24    LCS  Lissandra        Nocturne   Irelia  Ezreal       Rakan\n",
       "1  2019-03-24    LCS      Poppy       Jarvan IV     Ryze  Lucian       Braum\n",
       "2  2019-03-24    LCS      Sylas         Sejuani   Irelia  Twitch       Galio\n",
       "3  2019-03-24    LCS        Jax  Nunu & Willump     Ryze   Vayne       Braum\n",
       "4  2019-03-24    LCS   Vladimir       Jarvan IV  Orianna   Varus  Tahm Kench"
      ]
     },
     "execution_count": 2,
     "metadata": {},
     "output_type": "execute_result"
    }
   ],
   "source": [
    "# You can get a \"match_picks.csv\" by running the \"get_picks_info.py\"\n",
    "df = pd.read_csv(\"match_picks.csv\")\n",
    "df.head()"
   ]
  },
  {
   "cell_type": "markdown",
   "metadata": {},
   "source": [
    "#### チャンピオンとポジションごとのピック回数をカウントしてみる"
   ]
  },
  {
   "cell_type": "code",
   "execution_count": 3,
   "metadata": {},
   "outputs": [],
   "source": [
    "def count_picks(df):\n",
    "    result = pd.DataFrame(columns=[\"champions\", \"picks_count\", \"positions\"])\n",
    "\n",
    "    positions = [\"top\", \"jungle\", \"mid\", \"bottom\", \"support\"]\n",
    "    for position in positions:\n",
    "        temp = pd.DataFrame(\n",
    "            Counter(df[position]).items(),\n",
    "            columns=[\"champions\", \"picks_count\"]\n",
    "        )\n",
    "        temp[\"positions\"] = position\n",
    "        result = pd.concat([result, temp]).reset_index(drop=True)\n",
    "\n",
    "    return result"
   ]
  },
  {
   "cell_type": "code",
   "execution_count": 4,
   "metadata": {},
   "outputs": [
    {
     "data": {
      "text/html": [
       "<div>\n",
       "<style scoped>\n",
       "    .dataframe tbody tr th:only-of-type {\n",
       "        vertical-align: middle;\n",
       "    }\n",
       "\n",
       "    .dataframe tbody tr th {\n",
       "        vertical-align: top;\n",
       "    }\n",
       "\n",
       "    .dataframe thead th {\n",
       "        text-align: right;\n",
       "    }\n",
       "</style>\n",
       "<table border=\"1\" class=\"dataframe\">\n",
       "  <thead>\n",
       "    <tr style=\"text-align: right;\">\n",
       "      <th></th>\n",
       "      <th>champions</th>\n",
       "      <th>picks_count</th>\n",
       "      <th>positions</th>\n",
       "    </tr>\n",
       "  </thead>\n",
       "  <tbody>\n",
       "    <tr>\n",
       "      <th>0</th>\n",
       "      <td>Lissandra</td>\n",
       "      <td>8</td>\n",
       "      <td>top</td>\n",
       "    </tr>\n",
       "    <tr>\n",
       "      <th>1</th>\n",
       "      <td>Poppy</td>\n",
       "      <td>66</td>\n",
       "      <td>top</td>\n",
       "    </tr>\n",
       "    <tr>\n",
       "      <th>2</th>\n",
       "      <td>Sylas</td>\n",
       "      <td>63</td>\n",
       "      <td>top</td>\n",
       "    </tr>\n",
       "    <tr>\n",
       "      <th>3</th>\n",
       "      <td>Jax</td>\n",
       "      <td>48</td>\n",
       "      <td>top</td>\n",
       "    </tr>\n",
       "    <tr>\n",
       "      <th>4</th>\n",
       "      <td>Vladimir</td>\n",
       "      <td>197</td>\n",
       "      <td>top</td>\n",
       "    </tr>\n",
       "  </tbody>\n",
       "</table>\n",
       "</div>"
      ],
      "text/plain": [
       "   champions picks_count positions\n",
       "0  Lissandra           8       top\n",
       "1      Poppy          66       top\n",
       "2      Sylas          63       top\n",
       "3        Jax          48       top\n",
       "4   Vladimir         197       top"
      ]
     },
     "execution_count": 4,
     "metadata": {},
     "output_type": "execute_result"
    }
   ],
   "source": [
    "df_count = count_picks(df)\n",
    "df_count.head()"
   ]
  },
  {
   "cell_type": "markdown",
   "metadata": {},
   "source": [
    "## 2. バスケット分析"
   ]
  },
  {
   "cell_type": "markdown",
   "metadata": {},
   "source": [
    "- ピックの組み合わせは、買い物かごに入れた商品の組み合わせだと考えられる\n",
    "- pyfpgrowthライブラリーを使って、ピックの結果から有用なルールを抽出"
   ]
  },
  {
   "cell_type": "code",
   "execution_count": 5,
   "metadata": {},
   "outputs": [
    {
     "data": {
      "text/html": [
       "<div>\n",
       "<style scoped>\n",
       "    .dataframe tbody tr th:only-of-type {\n",
       "        vertical-align: middle;\n",
       "    }\n",
       "\n",
       "    .dataframe tbody tr th {\n",
       "        vertical-align: top;\n",
       "    }\n",
       "\n",
       "    .dataframe thead th {\n",
       "        text-align: right;\n",
       "    }\n",
       "</style>\n",
       "<table border=\"1\" class=\"dataframe\">\n",
       "  <thead>\n",
       "    <tr style=\"text-align: right;\">\n",
       "      <th></th>\n",
       "      <th>picked</th>\n",
       "      <th>recommend</th>\n",
       "      <th>confidence</th>\n",
       "      <th>lift</th>\n",
       "    </tr>\n",
       "  </thead>\n",
       "  <tbody>\n",
       "    <tr>\n",
       "      <th>0</th>\n",
       "      <td>(Maokai,)</td>\n",
       "      <td>Nocturne</td>\n",
       "      <td>1.0</td>\n",
       "      <td>32.117647</td>\n",
       "    </tr>\n",
       "    <tr>\n",
       "      <th>1</th>\n",
       "      <td>(Elise, Rengar)</td>\n",
       "      <td>Twisted Fate</td>\n",
       "      <td>1.0</td>\n",
       "      <td>84.000000</td>\n",
       "    </tr>\n",
       "    <tr>\n",
       "      <th>2</th>\n",
       "      <td>(Elise, Twisted Fate)</td>\n",
       "      <td>Rengar</td>\n",
       "      <td>1.0</td>\n",
       "      <td>819.000000</td>\n",
       "    </tr>\n",
       "    <tr>\n",
       "      <th>3</th>\n",
       "      <td>(Rengar, Twisted Fate)</td>\n",
       "      <td>Elise</td>\n",
       "      <td>1.0</td>\n",
       "      <td>20.475000</td>\n",
       "    </tr>\n",
       "    <tr>\n",
       "      <th>4</th>\n",
       "      <td>(Talon,)</td>\n",
       "      <td>Sylas</td>\n",
       "      <td>0.5</td>\n",
       "      <td>4.321900</td>\n",
       "    </tr>\n",
       "  </tbody>\n",
       "</table>\n",
       "</div>"
      ],
      "text/plain": [
       "                   picked     recommend  confidence        lift\n",
       "0               (Maokai,)      Nocturne         1.0   32.117647\n",
       "1         (Elise, Rengar)  Twisted Fate         1.0   84.000000\n",
       "2   (Elise, Twisted Fate)        Rengar         1.0  819.000000\n",
       "3  (Rengar, Twisted Fate)         Elise         1.0   20.475000\n",
       "4                (Talon,)         Sylas         0.5    4.321900"
      ]
     },
     "execution_count": 5,
     "metadata": {},
     "output_type": "execute_result"
    }
   ],
   "source": [
    "# You can modify the code of a \"generate_pick_rules.py\" if you want.\n",
    "df_rules = generate_pick_rules(df)\n",
    "df_rules.head()"
   ]
  },
  {
   "cell_type": "markdown",
   "metadata": {},
   "source": [
    "## 3. ピックを生成するための関数を作成"
   ]
  },
  {
   "cell_type": "markdown",
   "metadata": {},
   "source": [
    "#### まずはある程度ランダムで最初のピックを生成"
   ]
  },
  {
   "cell_type": "code",
   "execution_count": 6,
   "metadata": {},
   "outputs": [],
   "source": [
    "def generate_first_pick(df):\n",
    "    positions = [\"top\", \"jungle\", \"mid\", \"bottom\", \"support\"]\n",
    "    first_pick_position = random.choice(positions)\n",
    "\n",
    "    df = df.loc[df[\"positions\"] == first_pick_position, :]\n",
    "    df = df.sort_values(by=\"picks_count\", ascending=False).reset_index(drop=True)\n",
    "    n = np.random.randint(0, 2)\n",
    "\n",
    "    return {first_pick_position: df.iloc[n, 0]}"
   ]
  },
  {
   "cell_type": "markdown",
   "metadata": {},
   "source": [
    "例えば、こんな形で抽出される"
   ]
  },
  {
   "cell_type": "code",
   "execution_count": 9,
   "metadata": {},
   "outputs": [
    {
     "name": "stdout",
     "output_type": "stream",
     "text": [
      "{'mid': 'Corki'}\n",
      "{'jungle': 'Sejuani'}\n",
      "{'top': 'Kennen'}\n",
      "{'bottom': \"Kai'Sa\"}\n",
      "{'bottom': 'Ezreal'}\n"
     ]
    }
   ],
   "source": [
    "for i in range(5):\n",
    "    print(generate_first_pick(df_count))"
   ]
  },
  {
   "cell_type": "markdown",
   "metadata": {},
   "source": [
    "#### 前回までのピック情報をもとに次のピックを生成"
   ]
  },
  {
   "cell_type": "code",
   "execution_count": 10,
   "metadata": {},
   "outputs": [],
   "source": [
    "def add_next_pick(df_count, df_rules, picks):\n",
    "    for i, _ in enumerate(list(picks.values()), 1):\n",
    "        for picked in itertools.permutations(list(picks.values()), len(picks) - i + 1):\n",
    "            rules = df_rules.loc[df_rules[\"picked\"] == str(picked), :] \\\n",
    "                            .sort_values(by=\"lift\", ascending=False) \\\n",
    "                            .reset_index(drop=True)\n",
    "            if len(rules) > 0:\n",
    "                for i, next_pick in enumerate(rules[\"recommend\"]):\n",
    "                    if next_pick in picks.values():\n",
    "                        continue\n",
    "                    possible_positions = df_count[\n",
    "                        df_count[\"champions\"] == next_pick\n",
    "                    ].sort_values(by=\"picks_count\", ascending=False)[\n",
    "                        \"positions\"\n",
    "                    ].values\n",
    "                    for position in possible_positions:\n",
    "                        if position not in picks.keys():\n",
    "                            picks[position] = next_pick\n",
    "                            return picks\n",
    "\n",
    "    return add_random_pick(df_count, picks)"
   ]
  },
  {
   "cell_type": "markdown",
   "metadata": {},
   "source": [
    "毎回同じ結果になることを防ぐために、ある程度ランダム要素を入れておく"
   ]
  },
  {
   "cell_type": "code",
   "execution_count": 11,
   "metadata": {},
   "outputs": [],
   "source": [
    "def add_random_pick(df, picks):\n",
    "    positions = [\"top\", \"jungle\", \"mid\", \"bottom\", \"support\"]\n",
    "    positions = list(set(positions) - set(picks.keys()))\n",
    "    champions = df[df[\"positions\"].isin(positions)]\n",
    "    champions = champions[champions[\"picks_count\"] > 10].values\n",
    "\n",
    "    while True:\n",
    "        next_pick = random.choice(champions)\n",
    "        next_pick_champion = next_pick[0]\n",
    "        next_pick_position = next_pick[2]\n",
    "        if next_pick_champion not in picks.values():\n",
    "            break\n",
    "    picks[next_pick_position] = next_pick_champion\n",
    "\n",
    "    return picks"
   ]
  },
  {
   "cell_type": "markdown",
   "metadata": {},
   "source": [
    "例えば、こんな形で抽出される"
   ]
  },
  {
   "cell_type": "code",
   "execution_count": 13,
   "metadata": {},
   "outputs": [
    {
     "name": "stdout",
     "output_type": "stream",
     "text": [
      "{'bottom': 'Ezreal', 'support': 'Taric'}\n",
      "{'bottom': 'Ezreal', 'jungle': \"Kha'Zix\"}\n",
      "{'bottom': 'Ezreal', 'jungle': 'Aatrox'}\n"
     ]
    }
   ],
   "source": [
    "for i in range(3):\n",
    "    print(add_next_pick(df_count, df_rules, {'bottom': 'Ezreal'}))"
   ]
  },
  {
   "cell_type": "markdown",
   "metadata": {},
   "source": [
    "## 4. 仮想ピックを生成"
   ]
  },
  {
   "cell_type": "markdown",
   "metadata": {},
   "source": [
    "今まで作成した関数を組み合わせて仮想ピックを生成"
   ]
  },
  {
   "cell_type": "code",
   "execution_count": 14,
   "metadata": {},
   "outputs": [],
   "source": [
    "def generate_virtual_picks(df_count, df_rules, n=5):\n",
    "    df = pd.DataFrame(\n",
    "        columns=[\"top\", \"jungle\", \"mid\", \"bottom\", \"support\"]\n",
    "    )\n",
    "    for i in range(n):\n",
    "        picks = generate_first_pick(df_count)\n",
    "        while (len(picks) < 5):\n",
    "            picks = add_next_pick(df_count, df_rules, picks)\n",
    "        temp = pd.DataFrame([picks])\n",
    "        temp = temp[[\"top\", \"jungle\", \"mid\", \"bottom\", \"support\"]]\n",
    "        df = pd.concat([df, temp]).reset_index(drop=True)\n",
    "    return df"
   ]
  },
  {
   "cell_type": "markdown",
   "metadata": {},
   "source": [
    "#### 実際にありそうなピックを生成できた"
   ]
  },
  {
   "cell_type": "code",
   "execution_count": 15,
   "metadata": {},
   "outputs": [
    {
     "data": {
      "text/html": [
       "<div>\n",
       "<style scoped>\n",
       "    .dataframe tbody tr th:only-of-type {\n",
       "        vertical-align: middle;\n",
       "    }\n",
       "\n",
       "    .dataframe tbody tr th {\n",
       "        vertical-align: top;\n",
       "    }\n",
       "\n",
       "    .dataframe thead th {\n",
       "        text-align: right;\n",
       "    }\n",
       "</style>\n",
       "<table border=\"1\" class=\"dataframe\">\n",
       "  <thead>\n",
       "    <tr style=\"text-align: right;\">\n",
       "      <th></th>\n",
       "      <th>top</th>\n",
       "      <th>jungle</th>\n",
       "      <th>mid</th>\n",
       "      <th>bottom</th>\n",
       "      <th>support</th>\n",
       "    </tr>\n",
       "  </thead>\n",
       "  <tbody>\n",
       "    <tr>\n",
       "      <th>0</th>\n",
       "      <td>Irelia</td>\n",
       "      <td>Qiyana</td>\n",
       "      <td>Ryze</td>\n",
       "      <td>Ezreal</td>\n",
       "      <td>Alistar</td>\n",
       "    </tr>\n",
       "    <tr>\n",
       "      <th>1</th>\n",
       "      <td>Gangplank</td>\n",
       "      <td>Jarvan IV</td>\n",
       "      <td>Jayce</td>\n",
       "      <td>Xayah</td>\n",
       "      <td>Gragas</td>\n",
       "    </tr>\n",
       "    <tr>\n",
       "      <th>2</th>\n",
       "      <td>Gangplank</td>\n",
       "      <td>Poppy</td>\n",
       "      <td>Corki</td>\n",
       "      <td>Xayah</td>\n",
       "      <td>Tahm Kench</td>\n",
       "    </tr>\n",
       "    <tr>\n",
       "      <th>3</th>\n",
       "      <td>Urgot</td>\n",
       "      <td>Taliyah</td>\n",
       "      <td>Aatrox</td>\n",
       "      <td>Sivir</td>\n",
       "      <td>Braum</td>\n",
       "    </tr>\n",
       "    <tr>\n",
       "      <th>4</th>\n",
       "      <td>Ryze</td>\n",
       "      <td>Zac</td>\n",
       "      <td>Zed</td>\n",
       "      <td>Kai'Sa</td>\n",
       "      <td>Rakan</td>\n",
       "    </tr>\n",
       "    <tr>\n",
       "      <th>5</th>\n",
       "      <td>Aatrox</td>\n",
       "      <td>Xin Zhao</td>\n",
       "      <td>Kayle</td>\n",
       "      <td>Lucian</td>\n",
       "      <td>Morgana</td>\n",
       "    </tr>\n",
       "    <tr>\n",
       "      <th>6</th>\n",
       "      <td>Neeko</td>\n",
       "      <td>Nidalee</td>\n",
       "      <td>Lissandra</td>\n",
       "      <td>Jinx</td>\n",
       "      <td>Lux</td>\n",
       "    </tr>\n",
       "    <tr>\n",
       "      <th>7</th>\n",
       "      <td>Jax</td>\n",
       "      <td>Rek'Sai</td>\n",
       "      <td>Lissandra</td>\n",
       "      <td>Viktor</td>\n",
       "      <td>Tahm Kench</td>\n",
       "    </tr>\n",
       "    <tr>\n",
       "      <th>8</th>\n",
       "      <td>Kennen</td>\n",
       "      <td>Sejuani</td>\n",
       "      <td>Qiyana</td>\n",
       "      <td>Vayne</td>\n",
       "      <td>Nautilus</td>\n",
       "    </tr>\n",
       "    <tr>\n",
       "      <th>9</th>\n",
       "      <td>Kayle</td>\n",
       "      <td>Nidalee</td>\n",
       "      <td>Rumble</td>\n",
       "      <td>Sona</td>\n",
       "      <td>Tahm Kench</td>\n",
       "    </tr>\n",
       "  </tbody>\n",
       "</table>\n",
       "</div>"
      ],
      "text/plain": [
       "         top     jungle        mid  bottom     support\n",
       "0     Irelia     Qiyana       Ryze  Ezreal     Alistar\n",
       "1  Gangplank  Jarvan IV      Jayce   Xayah      Gragas\n",
       "2  Gangplank      Poppy      Corki   Xayah  Tahm Kench\n",
       "3      Urgot    Taliyah     Aatrox   Sivir       Braum\n",
       "4       Ryze        Zac        Zed  Kai'Sa       Rakan\n",
       "5     Aatrox   Xin Zhao      Kayle  Lucian     Morgana\n",
       "6      Neeko    Nidalee  Lissandra    Jinx         Lux\n",
       "7        Jax    Rek'Sai  Lissandra  Viktor  Tahm Kench\n",
       "8     Kennen    Sejuani     Qiyana   Vayne    Nautilus\n",
       "9      Kayle    Nidalee     Rumble    Sona  Tahm Kench"
      ]
     },
     "execution_count": 15,
     "metadata": {},
     "output_type": "execute_result"
    }
   ],
   "source": [
    "result = generate_virtual_picks(df_count, df_rules, 10)\n",
    "result"
   ]
  },
  {
   "cell_type": "code",
   "execution_count": null,
   "metadata": {},
   "outputs": [],
   "source": []
  }
 ],
 "metadata": {
  "kernelspec": {
   "display_name": "Python 3",
   "language": "python",
   "name": "python3"
  },
  "language_info": {
   "codemirror_mode": {
    "name": "ipython",
    "version": 3
   },
   "file_extension": ".py",
   "mimetype": "text/x-python",
   "name": "python",
   "nbconvert_exporter": "python",
   "pygments_lexer": "ipython3",
   "version": "3.6.8"
  }
 },
 "nbformat": 4,
 "nbformat_minor": 2
}
